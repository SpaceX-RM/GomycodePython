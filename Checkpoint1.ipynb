{
  "nbformat": 4,
  "nbformat_minor": 0,
  "metadata": {
    "colab": {
      "provenance": []
    },
    "kernelspec": {
      "name": "python3",
      "display_name": "Python 3"
    },
    "language_info": {
      "name": "python"
    }
  },
  "cells": [
    {
      "cell_type": "code",
      "source": [
        "print(\"Welcome to Python world! Let's start coding\")"
      ],
      "metadata": {
        "id": "7883WvUzHmCc"
      },
      "execution_count": null,
      "outputs": []
    },
    {
      "cell_type": "code",
      "source": [],
      "metadata": {
        "id": "Dlg6Iq-9IJYi"
      },
      "execution_count": null,
      "outputs": []
    },
    {
      "cell_type": "markdown",
      "source": [],
      "metadata": {
        "id": "Z8zB9yjXIIGP"
      }
    },
    {
      "cell_type": "code",
      "source": [
        "print(\"Welcome to Python world! Let's start coding\")"
      ],
      "metadata": {
        "id": "qIzHMfF5IB9z",
        "colab": {
          "base_uri": "https://localhost:8080/"
        },
        "outputId": "b77f6f9c-c1d3-4fee-e82a-913fef33937d"
      },
      "execution_count": 2,
      "outputs": [
        {
          "output_type": "stream",
          "name": "stdout",
          "text": [
            "Welcome to Python world! Let's start coding\n"
          ]
        }
      ]
    }
  ]
}